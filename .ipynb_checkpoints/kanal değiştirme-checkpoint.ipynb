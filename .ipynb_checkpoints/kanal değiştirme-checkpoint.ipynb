{
 "cells": [
  {
   "cell_type": "code",
   "execution_count": 3,
   "id": "b80ec6ef",
   "metadata": {},
   "outputs": [
    {
     "data": {
      "text/plain": [
       "True"
      ]
     },
     "execution_count": 3,
     "metadata": {},
     "output_type": "execute_result"
    }
   ],
   "source": [
    "import cv2\n",
    "\n",
    "# Resmi yükleyin\n",
    "img = cv2.imread(\"resimler/2.png\")\n",
    "\n",
    "# Resmin alfa kanalını kaldırın\n",
    "img_bgr = cv2.cvtColor(img, cv2.COLOR_RGBA2BGR)\n",
    "\n",
    "# Resmi kaydedin\n",
    "cv2.imwrite(\"resimler/2.png\", img_bgr)"
   ]
  },
  {
   "cell_type": "code",
   "execution_count": null,
   "id": "a0c2a24f",
   "metadata": {},
   "outputs": [],
   "source": []
  }
 ],
 "metadata": {
  "kernelspec": {
   "display_name": "Python 3 (ipykernel)",
   "language": "python",
   "name": "python3"
  },
  "language_info": {
   "codemirror_mode": {
    "name": "ipython",
    "version": 3
   },
   "file_extension": ".py",
   "mimetype": "text/x-python",
   "name": "python",
   "nbconvert_exporter": "python",
   "pygments_lexer": "ipython3",
   "version": "3.9.12"
  }
 },
 "nbformat": 4,
 "nbformat_minor": 5
}
