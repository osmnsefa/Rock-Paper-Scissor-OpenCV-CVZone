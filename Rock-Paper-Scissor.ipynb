{
 "cells": [
  {
   "cell_type": "code",
   "execution_count": 17,
   "id": "5b238381",
   "metadata": {},
   "outputs": [],
   "source": [
    "import cv2\n",
    "import cvzone\n",
    "from cvzone.HandTrackingModule import HandDetector\n",
    "import time\n",
    "import random"
   ]
  },
  {
   "cell_type": "code",
   "execution_count": 18,
   "id": "e16f3978",
   "metadata": {},
   "outputs": [
    {
     "data": {
      "text/plain": [
       "True"
      ]
     },
     "execution_count": 18,
     "metadata": {},
     "output_type": "execute_result"
    }
   ],
   "source": [
    "cap = cv2.VideoCapture(0)\n",
    "cap.set(3, 640)\n",
    "cap.set(4, 480)"
   ]
  },
  {
   "cell_type": "code",
   "execution_count": 19,
   "id": "1bea199a",
   "metadata": {},
   "outputs": [],
   "source": [
    "detector = HandDetector(maxHands=1)"
   ]
  },
  {
   "cell_type": "code",
   "execution_count": 20,
   "id": "28499483",
   "metadata": {},
   "outputs": [],
   "source": [
    "timer = 0\n",
    "stateResult = False\n",
    "startGame = False\n",
    "scores = [0, 0] # [AI , PLAYER]"
   ]
  },
  {
   "cell_type": "code",
   "execution_count": 21,
   "id": "a9fa1d2c",
   "metadata": {
    "scrolled": false
   },
   "outputs": [],
   "source": [
    "while True:\n",
    "    imgBackground = cv2.imread(\"resimler/AI.png\")\n",
    "    success, img = cap.read()\n",
    "    \n",
    "    imgScaled = cv2.resize(img, (0,0), None, 0.51, 0.51)\n",
    "    imgScaled = imgScaled[:,28:298]\n",
    "    \n",
    "    # Find Hands\n",
    "    \n",
    "    hands, img = detector.findHands(imgScaled)\n",
    "    \n",
    "    if startGame:\n",
    "        \n",
    "        if stateResult is False:\n",
    "            timer = time.time() - initial\n",
    "            cv2.putText(imgBackground, str(int(timer)), (510, 435), cv2.FONT_HERSHEY_PLAIN, 6, (200,0,100), 4)\n",
    "            \n",
    "            if timer>3:\n",
    "                stateResult = True\n",
    "                timer = 0\n",
    "                \n",
    "                if hands:\n",
    "                    playerMove = None\n",
    "                    hand = hands[0]\n",
    "                    fingers = detector.fingersUp(hand)\n",
    "                    \n",
    "                    if fingers == [0,0,0,0,0]:\n",
    "                        playerMove = \"Rock\"\n",
    "                        \n",
    "                    if fingers == [1,1,1,1,1]:\n",
    "                        playerMove = \"Paper\"\n",
    "                        \n",
    "                    if fingers == [0,1,1,0,0]:\n",
    "                        playerMove = \"Scissor\"\n",
    "                        \n",
    "                    randomnum = random.randint(1,3)    \n",
    "                    \n",
    "                    imgFront = cv2.imread(f'resimler/{randomnum}.png',cv2.IMREAD_UNCHANGED)\n",
    "\n",
    "                    imgBackground[295:520, 155:380] = imgFront\n",
    "                    \n",
    "                    # Player Wins\n",
    "                    if (playerMove == \"Rock\" and randomnum == 3) or \\\n",
    "                            (playerMove == \"Paper\" and randomnum == 1) or \\\n",
    "                            (playerMove == \"Scissor\" and randomnum == 2):\n",
    "                        scores[1] += 1\n",
    "\n",
    "                    # AI Wins\n",
    "                    if (playerMove == \"Scissor\" and randomnum == 1) or \\\n",
    "                            (playerMove == \"Rock\" and randomnum == 2) or \\\n",
    "                            (playerMove == \"Paper\" and randomnum == 3):\n",
    "                        scores[0] += 1\n",
    "    imgBackground[289:534, 660:930] = imgScaled\n",
    "    \n",
    "    if stateResult:\n",
    "        imgBackground[295:520, 155:380] = imgFront\n",
    "    \n",
    "    cv2.putText(imgBackground, str(scores[0]), (265,585), cv2.FONT_HERSHEY_PLAIN, 3, (200,0,100), 6)\n",
    "    cv2.putText(imgBackground, str(scores[1]), (797,585), cv2.FONT_HERSHEY_PLAIN, 3, (200,0,100), 6)\n",
    "\n",
    "    cv2.imshow(\"AI\",imgBackground)\n",
    "\n",
    "    key = cv2.waitKey(1) & 0xFF\n",
    "    if key == ord(\"s\"): \n",
    "        startGame = True\n",
    "        initial = time.time()\n",
    "        stateResult = False\n",
    "    if key == ord(\"q\"): break\n",
    "cap.release() #serbest bırak\n",
    "cv2.destroyAllWindows()"
   ]
  },
  {
   "cell_type": "code",
   "execution_count": null,
   "id": "8bd3bcdf",
   "metadata": {},
   "outputs": [],
   "source": []
  }
 ],
 "metadata": {
  "kernelspec": {
   "display_name": "Python 3 (ipykernel)",
   "language": "python",
   "name": "python3"
  },
  "language_info": {
   "codemirror_mode": {
    "name": "ipython",
    "version": 3
   },
   "file_extension": ".py",
   "mimetype": "text/x-python",
   "name": "python",
   "nbconvert_exporter": "python",
   "pygments_lexer": "ipython3",
   "version": "3.9.12"
  }
 },
 "nbformat": 4,
 "nbformat_minor": 5
}
